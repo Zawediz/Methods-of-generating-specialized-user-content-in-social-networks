{
 "cells": [
  {
   "cell_type": "code",
   "execution_count": null,
   "id": "95aecf24",
   "metadata": {
    "execution": {
     "iopub.execute_input": "2023-05-13T17:10:01.446538Z",
     "iopub.status.busy": "2023-05-13T17:10:01.445674Z",
     "iopub.status.idle": "2023-05-13T17:10:01.458472Z",
     "shell.execute_reply": "2023-05-13T17:10:01.457458Z"
    },
    "papermill": {
     "duration": 0.026389,
     "end_time": "2023-05-13T17:10:01.460581",
     "exception": false,
     "start_time": "2023-05-13T17:10:01.434192",
     "status": "completed"
    },
    "tags": []
   },
   "outputs": [],
   "source": [
    "import pandas as pd\n",
    "import numpy as np\n",
    "import codecs\n"
   ]
  },
  {
   "cell_type": "code",
   "execution_count": null,
   "id": "4b1f3cd8",
   "metadata": {
    "_cell_guid": "b1076dfc-b9ad-4769-8c92-a6c4dae69d19",
    "_uuid": "8f2839f25d086af736a60e9eeb907d3b93b6e0e5",
    "execution": {
     "iopub.execute_input": "2023-05-13T17:10:01.477963Z",
     "iopub.status.busy": "2023-05-13T17:10:01.477094Z",
     "iopub.status.idle": "2023-05-13T17:10:01.602637Z",
     "shell.execute_reply": "2023-05-13T17:10:01.601635Z"
    },
    "papermill": {
     "duration": 0.136123,
     "end_time": "2023-05-13T17:10:01.604890",
     "exception": false,
     "start_time": "2023-05-13T17:10:01.468767",
     "status": "completed"
    },
    "tags": []
   },
   "outputs": [],
   "source": [
    "df_synthetic = pd.read_csv(\"output_messages.csv\", encoding='utf-16', index_col=0)\n",
    "df_synthetic = df_synthetic.assign(target='YES')\n"
   ]
  },
  {
   "cell_type": "code",
   "execution_count": null,
   "id": "d4dbdc76",
   "metadata": {
    "execution": {
     "iopub.execute_input": "2023-05-13T17:10:01.622795Z",
     "iopub.status.busy": "2023-05-13T17:10:01.622453Z",
     "iopub.status.idle": "2023-05-13T17:10:01.629239Z",
     "shell.execute_reply": "2023-05-13T17:10:01.628309Z"
    },
    "papermill": {
     "duration": 0.0182,
     "end_time": "2023-05-13T17:10:01.631593",
     "exception": false,
     "start_time": "2023-05-13T17:10:01.613393",
     "status": "completed"
    },
    "tags": []
   },
   "outputs": [],
   "source": [
    "def for_emoji(message):\n",
    "    message = message.replace('\\\\n', '')\n",
    "    message = codecs.decode(message, 'unicode_escape')\n",
    "    message = message.encode('utf-16', 'surrogatepass').decode('utf-16')\n",
    "    return message\n"
   ]
  },
  {
   "cell_type": "code",
   "execution_count": null,
   "id": "4c66dfbe",
   "metadata": {
    "execution": {
     "iopub.execute_input": "2023-05-13T17:10:01.648228Z",
     "iopub.status.busy": "2023-05-13T17:10:01.647939Z",
     "iopub.status.idle": "2023-05-13T17:10:13.459004Z",
     "shell.execute_reply": "2023-05-13T17:10:13.457827Z"
    },
    "papermill": {
     "duration": 11.822534,
     "end_time": "2023-05-13T17:10:13.461807",
     "exception": false,
     "start_time": "2023-05-13T17:10:01.639273",
     "status": "completed"
    },
    "tags": []
   },
   "outputs": [],
   "source": [
    "df_original = pd.read_excel(\"/kaggle/input/clustering-sentences/prep_for_clustering.xlsx\", usecols=['message'])\n",
    "df_original['message'] = df_original['message'].apply(for_emoji)\n",
    "df_original.columns = ['messages']\n",
    "df_original = df_original.assign(target='NO')\n"
   ]
  },
  {
   "cell_type": "code",
   "execution_count": null,
   "id": "417109f0",
   "metadata": {
    "execution": {
     "iopub.execute_input": "2023-05-13T17:10:13.479855Z",
     "iopub.status.busy": "2023-05-13T17:10:13.479360Z",
     "iopub.status.idle": "2023-05-13T17:10:13.598261Z",
     "shell.execute_reply": "2023-05-13T17:10:13.597313Z"
    },
    "papermill": {
     "duration": 0.129922,
     "end_time": "2023-05-13T17:10:13.600505",
     "exception": false,
     "start_time": "2023-05-13T17:10:13.470583",
     "status": "completed"
    },
    "tags": []
   },
   "outputs": [],
   "source": [
    "df_all = pd.concat([df_original, df_synthetic])\n",
    "df_all = df_all.sample(frac=1).reset_index(drop=True)\n",
    "df_all = df_all.dropna()\n"
   ]
  },
  {
   "cell_type": "code",
   "execution_count": null,
   "id": "ec2adcf6",
   "metadata": {
    "execution": {
     "iopub.execute_input": "2023-05-13T17:10:13.621492Z",
     "iopub.status.busy": "2023-05-13T17:10:13.620026Z",
     "iopub.status.idle": "2023-05-13T17:10:13.627838Z",
     "shell.execute_reply": "2023-05-13T17:10:13.626974Z"
    },
    "papermill": {
     "duration": 0.020182,
     "end_time": "2023-05-13T17:10:13.629923",
     "exception": false,
     "start_time": "2023-05-13T17:10:13.609741",
     "status": "completed"
    },
    "tags": []
   },
   "outputs": [],
   "source": [
    "train, test = np.split(df_all, [int(.9 * len(df_all))])\n"
   ]
  },
  {
   "cell_type": "code",
   "execution_count": null,
   "id": "c36aa4c8",
   "metadata": {
    "execution": {
     "iopub.execute_input": "2023-05-13T17:10:13.647792Z",
     "iopub.status.busy": "2023-05-13T17:10:13.647491Z",
     "iopub.status.idle": "2023-05-13T17:10:17.041622Z",
     "shell.execute_reply": "2023-05-13T17:10:17.040525Z"
    },
    "papermill": {
     "duration": 3.405973,
     "end_time": "2023-05-13T17:10:17.044120",
     "exception": false,
     "start_time": "2023-05-13T17:10:13.638147",
     "status": "completed"
    },
    "tags": []
   },
   "outputs": [],
   "source": [
    "from transformers import GPT2Tokenizer\n"
   ]
  },
  {
   "cell_type": "code",
   "execution_count": null,
   "id": "903393b7",
   "metadata": {
    "execution": {
     "iopub.execute_input": "2023-05-13T17:10:17.062193Z",
     "iopub.status.busy": "2023-05-13T17:10:17.061615Z",
     "iopub.status.idle": "2023-05-13T17:10:25.556907Z",
     "shell.execute_reply": "2023-05-13T17:10:25.555449Z"
    },
    "papermill": {
     "duration": 8.506675,
     "end_time": "2023-05-13T17:10:25.559275",
     "exception": false,
     "start_time": "2023-05-13T17:10:17.052600",
     "status": "completed"
    },
    "tags": []
   },
   "outputs": [],
   "source": [
    "train_sentences = list(train['messages'].values)\n",
    "\n",
    "tokenizer = GPT2Tokenizer.from_pretrained(\"gpt2\")\n",
    "tokenizer.pad_token = tokenizer.eos_token\n",
    "train_encodings = tokenizer(train_sentences, padding=True, truncation=True)\n"
   ]
  },
  {
   "cell_type": "code",
   "execution_count": null,
   "id": "7fd6ef93",
   "metadata": {
    "execution": {
     "iopub.execute_input": "2023-05-13T17:10:25.578103Z",
     "iopub.status.busy": "2023-05-13T17:10:25.577805Z",
     "iopub.status.idle": "2023-05-13T17:10:31.865889Z",
     "shell.execute_reply": "2023-05-13T17:10:31.864830Z"
    },
    "papermill": {
     "duration": 6.300697,
     "end_time": "2023-05-13T17:10:31.868808",
     "exception": false,
     "start_time": "2023-05-13T17:10:25.568111",
     "status": "completed"
    },
    "tags": []
   },
   "outputs": [],
   "source": [
    "import torch\n",
    "from torch.utils.data import DataLoader\n"
   ]
  },
  {
   "cell_type": "code",
   "execution_count": null,
   "id": "df6a94ec",
   "metadata": {
    "execution": {
     "iopub.execute_input": "2023-05-13T17:10:31.890627Z",
     "iopub.status.busy": "2023-05-13T17:10:31.889246Z",
     "iopub.status.idle": "2023-05-13T17:10:31.896163Z",
     "shell.execute_reply": "2023-05-13T17:10:31.895164Z"
    },
    "papermill": {
     "duration": 0.019753,
     "end_time": "2023-05-13T17:10:31.898465",
     "exception": false,
     "start_time": "2023-05-13T17:10:31.878712",
     "status": "completed"
    },
    "tags": []
   },
   "outputs": [],
   "source": [
    "class Dataset(torch.utils.data.Dataset):\n",
    "    def __init__(self, encodings):\n",
    "        self.encodings = encodings\n",
    "\n",
    "    def __getitem__(self, idx):\n",
    "        return {key: torch.tensor(val[idx]) for key, val in self.encodings.items()}\n",
    "\n",
    "    def __len__(self):\n",
    "        return len(self.encodings.input_ids)\n",
    "   "
   ]
  },
  {
   "cell_type": "code",
   "execution_count": null,
   "id": "c4be0e61",
   "metadata": {
    "execution": {
     "iopub.execute_input": "2023-05-13T17:10:31.919345Z",
     "iopub.status.busy": "2023-05-13T17:10:31.917750Z",
     "iopub.status.idle": "2023-05-13T17:10:31.925433Z",
     "shell.execute_reply": "2023-05-13T17:10:31.924565Z"
    },
    "papermill": {
     "duration": 0.020198,
     "end_time": "2023-05-13T17:10:31.927944",
     "exception": false,
     "start_time": "2023-05-13T17:10:31.907746",
     "status": "completed"
    },
    "tags": []
   },
   "outputs": [],
   "source": [
    "def add_label(encodings):\n",
    "    labels = (train['target'].values == \"YES\").astype(int)\n",
    "    encodings.update({'label': labels})\n",
    "\n",
    "add_label(train_encodings)\n"
   ]
  },
  {
   "cell_type": "code",
   "execution_count": null,
   "id": "351c4b23",
   "metadata": {
    "execution": {
     "iopub.execute_input": "2023-05-13T17:10:31.947892Z",
     "iopub.status.busy": "2023-05-13T17:10:31.947578Z",
     "iopub.status.idle": "2023-05-13T17:10:33.723785Z",
     "shell.execute_reply": "2023-05-13T17:10:33.722654Z"
    },
    "papermill": {
     "duration": 1.789338,
     "end_time": "2023-05-13T17:10:33.726538",
     "exception": false,
     "start_time": "2023-05-13T17:10:31.937200",
     "status": "completed"
    },
    "tags": []
   },
   "outputs": [],
   "source": [
    "import sklearn.model_selection\n",
    "from sklearn.metrics import classification_report, zero_one_loss\n"
   ]
  },
  {
   "cell_type": "code",
   "execution_count": null,
   "id": "3dbd878a",
   "metadata": {
    "execution": {
     "iopub.execute_input": "2023-05-13T17:10:33.747633Z",
     "iopub.status.busy": "2023-05-13T17:10:33.746821Z",
     "iopub.status.idle": "2023-05-13T17:10:40.329858Z",
     "shell.execute_reply": "2023-05-13T17:10:40.328863Z"
    },
    "papermill": {
     "duration": 6.595437,
     "end_time": "2023-05-13T17:10:40.332259",
     "exception": false,
     "start_time": "2023-05-13T17:10:33.736822",
     "status": "completed"
    },
    "tags": []
   },
   "outputs": [],
   "source": [
    "train_data = Dataset(train_encodings)\n",
    "train_dataset, val_dataset = sklearn.model_selection.train_test_split(train_data)\n"
   ]
  },
  {
   "cell_type": "code",
   "execution_count": null,
   "id": "be5f6985",
   "metadata": {
    "execution": {
     "iopub.execute_input": "2023-05-13T17:10:40.351614Z",
     "iopub.status.busy": "2023-05-13T17:10:40.351308Z",
     "iopub.status.idle": "2023-05-13T17:10:52.947246Z",
     "shell.execute_reply": "2023-05-13T17:10:52.946304Z"
    },
    "papermill": {
     "duration": 12.608424,
     "end_time": "2023-05-13T17:10:52.949638",
     "exception": false,
     "start_time": "2023-05-13T17:10:40.341214",
     "status": "completed"
    },
    "tags": []
   },
   "outputs": [],
   "source": [
    "from transformers import GPT2ForSequenceClassification, GPT2Config\n"
   ]
  },
  {
   "cell_type": "code",
   "execution_count": null,
   "id": "aa09090b",
   "metadata": {
    "execution": {
     "iopub.execute_input": "2023-05-13T17:10:52.969623Z",
     "iopub.status.busy": "2023-05-13T17:10:52.968772Z",
     "iopub.status.idle": "2023-05-13T17:10:57.740398Z",
     "shell.execute_reply": "2023-05-13T17:10:57.739438Z"
    },
    "papermill": {
     "duration": 4.78391,
     "end_time": "2023-05-13T17:10:57.742662",
     "exception": false,
     "start_time": "2023-05-13T17:10:52.958752",
     "status": "completed"
    },
    "tags": []
   },
   "outputs": [],
   "source": [
    "model_config = GPT2Config.from_pretrained('gpt2', num_labels=2)\n",
    "model = GPT2ForSequenceClassification.from_pretrained('gpt2', config=model_config)\n"
   ]
  },
  {
   "cell_type": "code",
   "execution_count": null,
   "id": "dfe65776",
   "metadata": {
    "execution": {
     "iopub.execute_input": "2023-05-13T17:10:57.767596Z",
     "iopub.status.busy": "2023-05-13T17:10:57.767275Z",
     "iopub.status.idle": "2023-05-13T17:10:57.772145Z",
     "shell.execute_reply": "2023-05-13T17:10:57.771037Z"
    },
    "papermill": {
     "duration": 0.01779,
     "end_time": "2023-05-13T17:10:57.774558",
     "exception": false,
     "start_time": "2023-05-13T17:10:57.756768",
     "status": "completed"
    },
    "tags": []
   },
   "outputs": [],
   "source": [
    "model.config.pad_token_id = model.config.eos_token_id"
   ]
  },
  {
   "cell_type": "code",
   "execution_count": null,
   "id": "319d17b4",
   "metadata": {
    "execution": {
     "iopub.execute_input": "2023-05-13T17:10:57.794619Z",
     "iopub.status.busy": "2023-05-13T17:10:57.794013Z",
     "iopub.status.idle": "2023-05-13T17:11:05.399326Z",
     "shell.execute_reply": "2023-05-13T17:11:05.398362Z"
    },
    "papermill": {
     "duration": 7.617636,
     "end_time": "2023-05-13T17:11:05.401581",
     "exception": false,
     "start_time": "2023-05-13T17:10:57.783945",
     "status": "completed"
    },
    "tags": []
   },
   "outputs": [],
   "source": [
    "device = torch.device('cuda') \n",
    "model.to(device)\n"
   ]
  },
  {
   "cell_type": "code",
   "execution_count": null,
   "id": "d1b8d766",
   "metadata": {
    "execution": {
     "iopub.execute_input": "2023-05-13T17:11:05.420798Z",
     "iopub.status.busy": "2023-05-13T17:11:05.420471Z",
     "iopub.status.idle": "2023-05-13T17:11:05.425650Z",
     "shell.execute_reply": "2023-05-13T17:11:05.424539Z"
    },
    "papermill": {
     "duration": 0.016898,
     "end_time": "2023-05-13T17:11:05.427567",
     "exception": false,
     "start_time": "2023-05-13T17:11:05.410669",
     "status": "completed"
    },
    "tags": []
   },
   "outputs": [],
   "source": [
    "batch_size = 8\n",
    "train_loader = DataLoader(train_dataset, batch_size = batch_size, shuffle=True)\n",
    "val_loader = DataLoader(val_dataset, batch_size = batch_size)\n"
   ]
  },
  {
   "cell_type": "code",
   "execution_count": null,
   "id": "d1fa4d11",
   "metadata": {
    "execution": {
     "iopub.execute_input": "2023-05-13T17:11:05.446587Z",
     "iopub.status.busy": "2023-05-13T17:11:05.446005Z",
     "iopub.status.idle": "2023-05-13T17:11:05.457984Z",
     "shell.execute_reply": "2023-05-13T17:11:05.457084Z"
    },
    "papermill": {
     "duration": 0.023397,
     "end_time": "2023-05-13T17:11:05.459895",
     "exception": false,
     "start_time": "2023-05-13T17:11:05.436498",
     "status": "completed"
    },
    "tags": []
   },
   "outputs": [],
   "source": [
    "import matplotlib.pyplot as plt \n",
    "from transformers import AdamW\n"
   ]
  },
  {
   "cell_type": "code",
   "execution_count": null,
   "id": "d35ea6ed",
   "metadata": {
    "execution": {
     "iopub.execute_input": "2023-05-13T17:11:05.478659Z",
     "iopub.status.busy": "2023-05-13T17:11:05.478387Z",
     "iopub.status.idle": "2023-05-13T19:19:04.644648Z",
     "shell.execute_reply": "2023-05-13T19:19:04.643329Z"
    },
    "papermill": {
     "duration": 7679.201829,
     "end_time": "2023-05-13T19:19:04.670309",
     "exception": false,
     "start_time": "2023-05-13T17:11:05.468480",
     "status": "completed"
    },
    "tags": []
   },
   "outputs": [],
   "source": [
    "history_accuracy = []\n",
    "history_train = []\n",
    "history_eval = []\n",
    "\n",
    "optim = AdamW(model.parameters(), lr=1e-6)\n",
    "\n",
    "n_epochs = 5\n",
    "k = 0\n",
    "score = 0\n",
    "\n",
    "for epoch in range(n_epochs):\n",
    "    print('Эпоха : ', epoch)\n",
    "    our_res = []\n",
    "    true_res = []\n",
    "    \n",
    "    total_eval_loss = 0\n",
    "    total_train_loss = 0\n",
    "    \n",
    "    model.train()\n",
    "    step_train = 0\n",
    "    print('train')\n",
    "    for batch in train_loader:\n",
    "        optim.zero_grad()\n",
    "        input_ids = batch['input_ids'].to(device)\n",
    "        attention_mask = batch['attention_mask'].to(device)\n",
    "        labels = batch['label'].to(device)\n",
    "\n",
    "        outputs = model(input_ids, attention_mask=attention_mask, labels=labels)\n",
    "        total_train_loss += outputs['loss'].detach().cpu().numpy()\n",
    "        outputs['loss'].backward()\n",
    "        optim.step()\n",
    "        \n",
    "        step_train += 1\n",
    "        if step_train % 100 == 0:\n",
    "            print(\"train_step : \", step_train / len(train_loader) * 100, '%')\n",
    "\n",
    "    avg_train_loss = total_train_loss / len(train_loader)\n",
    "\n",
    "    model.eval()\n",
    "    step_eval = 0\n",
    "    print('validation')\n",
    "    for batch in val_loader:\n",
    "        e_input_ids = batch['input_ids'].to(device)\n",
    "        e_attention_mask = batch['attention_mask'].to(device)\n",
    "        e_labels = batch['label'].to(device)\n",
    "\n",
    "        with torch.no_grad():\n",
    "            e_outputs = model(e_input_ids, token_type_ids=None,\n",
    "                              attention_mask=e_attention_mask,\n",
    "                              labels = e_labels)\n",
    "\n",
    "        e_labels_logits = e_outputs['logits'].detach().cpu().numpy()\n",
    "        \n",
    "        for i in e_labels_logits:\n",
    "            our_res.append(np.argmax(i))\n",
    "\n",
    "        for i in range(len(e_labels)):\n",
    "            true_res.append(e_labels[i].cpu().numpy())\n",
    "            \n",
    "        total_eval_loss += zero_one_loss(true_res, our_res)\n",
    "\n",
    "        torch.nn.utils.clip_grad_norm_(model.parameters(), 1.0)\n",
    "\n",
    "        step_eval += 1\n",
    "        if (step_eval % 50 == 0):\n",
    "            print(\"eval_step : \", step_eval / len(val_loader) * 100, \"%\")\n",
    "\n",
    "    avg_eval_loss = total_eval_loss / len(val_loader)\n",
    "    \n",
    "    report = classification_report(true_res, our_res, output_dict=True)\n",
    "    print(report)\n",
    "    \n",
    "    k += 1\n",
    "    score += report['accuracy']\n",
    "    avg_score = score / k\n",
    "    \n",
    "    print(\"Средняя оценка на валидации: \", avg_score)\n",
    "    \n",
    "    history_accuracy.append(avg_score)\n",
    "    history_train.append(avg_train_loss)\n",
    "    history_eval.append(avg_eval_loss)\n",
    "    \n"
   ]
  },
  {
   "cell_type": "code",
   "execution_count": null,
   "id": "8a207051",
   "metadata": {
    "execution": {
     "iopub.execute_input": "2023-05-13T19:19:04.710200Z",
     "iopub.status.busy": "2023-05-13T19:19:04.709903Z",
     "iopub.status.idle": "2023-05-13T19:19:05.048549Z",
     "shell.execute_reply": "2023-05-13T19:19:05.047616Z"
    },
    "papermill": {
     "duration": 0.360903,
     "end_time": "2023-05-13T19:19:05.050604",
     "exception": false,
     "start_time": "2023-05-13T19:19:04.689701",
     "status": "completed"
    },
    "tags": []
   },
   "outputs": [],
   "source": [
    "plt.plot(figsize = (12,6))\n",
    "\n",
    "plt.plot(history_accuracy, label=\"accuracy\")\n",
    "plt.plot(history_train, label=\"train loss\")\n",
    "plt.plot(history_eval, label=\"eval loss\")\n",
    "\n",
    "plt.title(\"loss and score\")\n",
    "plt.xlabel(\"Epoch\")\n",
    "plt.ylabel(\"Score\")\n",
    "plt.legend()\n",
    "\n",
    "plt.show()\n"
   ]
  },
  {
   "cell_type": "code",
   "execution_count": null,
   "id": "d411e5e6",
   "metadata": {
    "execution": {
     "iopub.execute_input": "2023-05-13T19:19:05.093065Z",
     "iopub.status.busy": "2023-05-13T19:19:05.091476Z",
     "iopub.status.idle": "2023-05-13T19:19:05.790712Z",
     "shell.execute_reply": "2023-05-13T19:19:05.789212Z"
    },
    "papermill": {
     "duration": 0.722296,
     "end_time": "2023-05-13T19:19:05.792916",
     "exception": false,
     "start_time": "2023-05-13T19:19:05.070620",
     "status": "completed"
    },
    "tags": []
   },
   "outputs": [],
   "source": [
    "test_sentences = list(test['messages'].values)\n",
    "true_test_res = (test['target'].values == \"YES\").astype(int)\n",
    "test_encodings = tokenizer(test_sentences, padding=True, truncation=True)\n"
   ]
  },
  {
   "cell_type": "code",
   "execution_count": null,
   "id": "8e26f32a",
   "metadata": {
    "execution": {
     "iopub.execute_input": "2023-05-13T19:19:05.935886Z",
     "iopub.status.busy": "2023-05-13T19:19:05.935520Z",
     "iopub.status.idle": "2023-05-13T19:19:05.940611Z",
     "shell.execute_reply": "2023-05-13T19:19:05.939448Z"
    },
    "papermill": {
     "duration": 0.047236,
     "end_time": "2023-05-13T19:19:05.945334",
     "exception": false,
     "start_time": "2023-05-13T19:19:05.898098",
     "status": "completed"
    },
    "tags": []
   },
   "outputs": [],
   "source": [
    "test_dataset = Dataset(test_encodings)\n",
    "test_loader = DataLoader(test_dataset, batch_size = batch_size)\n"
   ]
  },
  {
   "cell_type": "code",
   "execution_count": null,
   "id": "591ffc44",
   "metadata": {
    "execution": {
     "iopub.execute_input": "2023-05-13T19:19:06.011026Z",
     "iopub.status.busy": "2023-05-13T19:19:06.010604Z",
     "iopub.status.idle": "2023-05-13T19:19:49.419702Z",
     "shell.execute_reply": "2023-05-13T19:19:49.418446Z"
    },
    "papermill": {
     "duration": 43.44584,
     "end_time": "2023-05-13T19:19:49.422768",
     "exception": false,
     "start_time": "2023-05-13T19:19:05.976928",
     "status": "completed"
    },
    "tags": []
   },
   "outputs": [],
   "source": [
    "model.eval()\n",
    "print('test')\n",
    "step_test = 0\n",
    "predictions = []\n",
    "test_res = []\n",
    "\n",
    "for batch in test_loader:\n",
    "    t_input_ids = batch['input_ids'].to(device)\n",
    "    t_attention_mask = batch['attention_mask'].to(device)\n",
    "    \n",
    "    with torch.no_grad():        \n",
    "        t_outputs = model(t_input_ids, token_type_ids=None, \n",
    "                          attention_mask=t_attention_mask)\n",
    "\n",
    "    t_label_logits = t_outputs['logits'].detach().cpu().numpy()\n",
    "    \n",
    "    for i in t_label_logits:\n",
    "        test_res.append(np.argmax(i))\n",
    "            \n",
    "    torch.nn.utils.clip_grad_norm_(model.parameters(), 1.0)\n",
    "\n",
    "    step_test += 1\n",
    "    if (step_test % 50 == 0):\n",
    "        print(\"test_step : \", step_test / len(test_loader) * 100, \"%\")\n",
    "        \n",
    "\n",
    "report = classification_report(true_test_res, test_res, output_dict=True)\n",
    "print(report)\n"
   ]
  },
  {
   "cell_type": "code",
   "execution_count": null,
   "id": "e35a2d4b",
   "metadata": {
    "execution": {
     "iopub.execute_input": "2023-05-13T19:19:49.525471Z",
     "iopub.status.busy": "2023-05-13T19:19:49.525198Z",
     "iopub.status.idle": "2023-05-13T19:19:50.368314Z",
     "shell.execute_reply": "2023-05-13T19:19:50.367259Z"
    },
    "papermill": {
     "duration": 0.867288,
     "end_time": "2023-05-13T19:19:50.370836",
     "exception": false,
     "start_time": "2023-05-13T19:19:49.503548",
     "status": "completed"
    },
    "tags": []
   },
   "outputs": [],
   "source": [
    "model.save_pretrained(\"/working/\")\n"
   ]
  }
 ],
 "metadata": {
  "kernelspec": {
   "display_name": "Python 3",
   "language": "python",
   "name": "python3"
  },
  "language_info": {
   "codemirror_mode": {
    "name": "ipython",
    "version": 3
   },
   "file_extension": ".py",
   "mimetype": "text/x-python",
   "name": "python",
   "nbconvert_exporter": "python",
   "pygments_lexer": "ipython3",
   "version": "3.10.10"
  },
  "papermill": {
   "default_parameters": {},
   "duration": 7807.062668,
   "end_time": "2023-05-13T19:19:53.745396",
   "environment_variables": {},
   "exception": null,
   "input_path": "__notebook__.ipynb",
   "output_path": "__notebook__.ipynb",
   "parameters": {},
   "start_time": "2023-05-13T17:09:46.682728",
   "version": "2.4.0"
  },
  "widgets": {
   "application/vnd.jupyter.widget-state+json": {
    "state": {
     "020458976a8947d6a5a4b087cd312d89": {
      "model_module": "@jupyter-widgets/base",
      "model_module_version": "1.2.0",
      "model_name": "LayoutModel",
      "state": {
       "_model_module": "@jupyter-widgets/base",
       "_model_module_version": "1.2.0",
       "_model_name": "LayoutModel",
       "_view_count": null,
       "_view_module": "@jupyter-widgets/base",
       "_view_module_version": "1.2.0",
       "_view_name": "LayoutView",
       "align_content": null,
       "align_items": null,
       "align_self": null,
       "border": null,
       "bottom": null,
       "display": null,
       "flex": null,
       "flex_flow": null,
       "grid_area": null,
       "grid_auto_columns": null,
       "grid_auto_flow": null,
       "grid_auto_rows": null,
       "grid_column": null,
       "grid_gap": null,
       "grid_row": null,
       "grid_template_areas": null,
       "grid_template_columns": null,
       "grid_template_rows": null,
       "height": null,
       "justify_content": null,
       "justify_items": null,
       "left": null,
       "margin": null,
       "max_height": null,
       "max_width": null,
       "min_height": null,
       "min_width": null,
       "object_fit": null,
       "object_position": null,
       "order": null,
       "overflow": null,
       "overflow_x": null,
       "overflow_y": null,
       "padding": null,
       "right": null,
       "top": null,
       "visibility": null,
       "width": null
      }
     },
     "073b59d0337e4ead8e2915d56afc38be": {
      "model_module": "@jupyter-widgets/controls",
      "model_module_version": "1.5.0",
      "model_name": "HTMLModel",
      "state": {
       "_dom_classes": [],
       "_model_module": "@jupyter-widgets/controls",
       "_model_module_version": "1.5.0",
       "_model_name": "HTMLModel",
       "_view_count": null,
       "_view_module": "@jupyter-widgets/controls",
       "_view_module_version": "1.5.0",
       "_view_name": "HTMLView",
       "description": "",
       "description_tooltip": null,
       "layout": "IPY_MODEL_a99bc78584524487840df0611aab1c9d",
       "placeholder": "​",
       "style": "IPY_MODEL_129d226482a740de850faff1747ec735",
       "value": "Downloading (…)lve/main/config.json: 100%"
      }
     },
     "129d226482a740de850faff1747ec735": {
      "model_module": "@jupyter-widgets/controls",
      "model_module_version": "1.5.0",
      "model_name": "DescriptionStyleModel",
      "state": {
       "_model_module": "@jupyter-widgets/controls",
       "_model_module_version": "1.5.0",
       "_model_name": "DescriptionStyleModel",
       "_view_count": null,
       "_view_module": "@jupyter-widgets/base",
       "_view_module_version": "1.2.0",
       "_view_name": "StyleView",
       "description_width": ""
      }
     },
     "18b86ad53c914788a3f8a20e3e638aac": {
      "model_module": "@jupyter-widgets/base",
      "model_module_version": "1.2.0",
      "model_name": "LayoutModel",
      "state": {
       "_model_module": "@jupyter-widgets/base",
       "_model_module_version": "1.2.0",
       "_model_name": "LayoutModel",
       "_view_count": null,
       "_view_module": "@jupyter-widgets/base",
       "_view_module_version": "1.2.0",
       "_view_name": "LayoutView",
       "align_content": null,
       "align_items": null,
       "align_self": null,
       "border": null,
       "bottom": null,
       "display": null,
       "flex": null,
       "flex_flow": null,
       "grid_area": null,
       "grid_auto_columns": null,
       "grid_auto_flow": null,
       "grid_auto_rows": null,
       "grid_column": null,
       "grid_gap": null,
       "grid_row": null,
       "grid_template_areas": null,
       "grid_template_columns": null,
       "grid_template_rows": null,
       "height": null,
       "justify_content": null,
       "justify_items": null,
       "left": null,
       "margin": null,
       "max_height": null,
       "max_width": null,
       "min_height": null,
       "min_width": null,
       "object_fit": null,
       "object_position": null,
       "order": null,
       "overflow": null,
       "overflow_x": null,
       "overflow_y": null,
       "padding": null,
       "right": null,
       "top": null,
       "visibility": null,
       "width": null
      }
     },
     "20e6bbe7ff1f4ffc8dc7115ab4c7f03d": {
      "model_module": "@jupyter-widgets/base",
      "model_module_version": "1.2.0",
      "model_name": "LayoutModel",
      "state": {
       "_model_module": "@jupyter-widgets/base",
       "_model_module_version": "1.2.0",
       "_model_name": "LayoutModel",
       "_view_count": null,
       "_view_module": "@jupyter-widgets/base",
       "_view_module_version": "1.2.0",
       "_view_name": "LayoutView",
       "align_content": null,
       "align_items": null,
       "align_self": null,
       "border": null,
       "bottom": null,
       "display": null,
       "flex": null,
       "flex_flow": null,
       "grid_area": null,
       "grid_auto_columns": null,
       "grid_auto_flow": null,
       "grid_auto_rows": null,
       "grid_column": null,
       "grid_gap": null,
       "grid_row": null,
       "grid_template_areas": null,
       "grid_template_columns": null,
       "grid_template_rows": null,
       "height": null,
       "justify_content": null,
       "justify_items": null,
       "left": null,
       "margin": null,
       "max_height": null,
       "max_width": null,
       "min_height": null,
       "min_width": null,
       "object_fit": null,
       "object_position": null,
       "order": null,
       "overflow": null,
       "overflow_x": null,
       "overflow_y": null,
       "padding": null,
       "right": null,
       "top": null,
       "visibility": null,
       "width": null
      }
     },
     "2e6f33f8155b4b9a8cf08b9298515e35": {
      "model_module": "@jupyter-widgets/controls",
      "model_module_version": "1.5.0",
      "model_name": "DescriptionStyleModel",
      "state": {
       "_model_module": "@jupyter-widgets/controls",
       "_model_module_version": "1.5.0",
       "_model_name": "DescriptionStyleModel",
       "_view_count": null,
       "_view_module": "@jupyter-widgets/base",
       "_view_module_version": "1.2.0",
       "_view_name": "StyleView",
       "description_width": ""
      }
     },
     "2e8fed7203bd4a08bdcb5fa08517a4c2": {
      "model_module": "@jupyter-widgets/controls",
      "model_module_version": "1.5.0",
      "model_name": "DescriptionStyleModel",
      "state": {
       "_model_module": "@jupyter-widgets/controls",
       "_model_module_version": "1.5.0",
       "_model_name": "DescriptionStyleModel",
       "_view_count": null,
       "_view_module": "@jupyter-widgets/base",
       "_view_module_version": "1.2.0",
       "_view_name": "StyleView",
       "description_width": ""
      }
     },
     "36ead7f25069423eb3d56e5e18fc8cca": {
      "model_module": "@jupyter-widgets/controls",
      "model_module_version": "1.5.0",
      "model_name": "HTMLModel",
      "state": {
       "_dom_classes": [],
       "_model_module": "@jupyter-widgets/controls",
       "_model_module_version": "1.5.0",
       "_model_name": "HTMLModel",
       "_view_count": null,
       "_view_module": "@jupyter-widgets/controls",
       "_view_module_version": "1.5.0",
       "_view_name": "HTMLView",
       "description": "",
       "description_tooltip": null,
       "layout": "IPY_MODEL_91956f73d9694cc9a9bf0f7b76765d8b",
       "placeholder": "​",
       "style": "IPY_MODEL_8a6762cc8ae4457c9949e25dec726bf4",
       "value": "Downloading pytorch_model.bin: 100%"
      }
     },
     "44c42f93d25e45acb7b3a1ce17c8e660": {
      "model_module": "@jupyter-widgets/controls",
      "model_module_version": "1.5.0",
      "model_name": "FloatProgressModel",
      "state": {
       "_dom_classes": [],
       "_model_module": "@jupyter-widgets/controls",
       "_model_module_version": "1.5.0",
       "_model_name": "FloatProgressModel",
       "_view_count": null,
       "_view_module": "@jupyter-widgets/controls",
       "_view_module_version": "1.5.0",
       "_view_name": "ProgressView",
       "bar_style": "success",
       "description": "",
       "description_tooltip": null,
       "layout": "IPY_MODEL_20e6bbe7ff1f4ffc8dc7115ab4c7f03d",
       "max": 456318,
       "min": 0,
       "orientation": "horizontal",
       "style": "IPY_MODEL_f688ca3e353a468c99d3e2a6b527ff7a",
       "value": 456318
      }
     },
     "459c9bcf64ea4d2a9a7bf845c25dadc1": {
      "model_module": "@jupyter-widgets/base",
      "model_module_version": "1.2.0",
      "model_name": "LayoutModel",
      "state": {
       "_model_module": "@jupyter-widgets/base",
       "_model_module_version": "1.2.0",
       "_model_name": "LayoutModel",
       "_view_count": null,
       "_view_module": "@jupyter-widgets/base",
       "_view_module_version": "1.2.0",
       "_view_name": "LayoutView",
       "align_content": null,
       "align_items": null,
       "align_self": null,
       "border": null,
       "bottom": null,
       "display": null,
       "flex": null,
       "flex_flow": null,
       "grid_area": null,
       "grid_auto_columns": null,
       "grid_auto_flow": null,
       "grid_auto_rows": null,
       "grid_column": null,
       "grid_gap": null,
       "grid_row": null,
       "grid_template_areas": null,
       "grid_template_columns": null,
       "grid_template_rows": null,
       "height": null,
       "justify_content": null,
       "justify_items": null,
       "left": null,
       "margin": null,
       "max_height": null,
       "max_width": null,
       "min_height": null,
       "min_width": null,
       "object_fit": null,
       "object_position": null,
       "order": null,
       "overflow": null,
       "overflow_x": null,
       "overflow_y": null,
       "padding": null,
       "right": null,
       "top": null,
       "visibility": null,
       "width": null
      }
     },
     "474e3a0140254995863330c4eea2099d": {
      "model_module": "@jupyter-widgets/controls",
      "model_module_version": "1.5.0",
      "model_name": "HTMLModel",
      "state": {
       "_dom_classes": [],
       "_model_module": "@jupyter-widgets/controls",
       "_model_module_version": "1.5.0",
       "_model_name": "HTMLModel",
       "_view_count": null,
       "_view_module": "@jupyter-widgets/controls",
       "_view_module_version": "1.5.0",
       "_view_name": "HTMLView",
       "description": "",
       "description_tooltip": null,
       "layout": "IPY_MODEL_459c9bcf64ea4d2a9a7bf845c25dadc1",
       "placeholder": "​",
       "style": "IPY_MODEL_c6a51eca439e49e18f156ce1dc5bd9d4",
       "value": "Downloading (…)olve/main/vocab.json: 100%"
      }
     },
     "476d8705438d423b95c95b812fa058c6": {
      "model_module": "@jupyter-widgets/controls",
      "model_module_version": "1.5.0",
      "model_name": "HTMLModel",
      "state": {
       "_dom_classes": [],
       "_model_module": "@jupyter-widgets/controls",
       "_model_module_version": "1.5.0",
       "_model_name": "HTMLModel",
       "_view_count": null,
       "_view_module": "@jupyter-widgets/controls",
       "_view_module_version": "1.5.0",
       "_view_name": "HTMLView",
       "description": "",
       "description_tooltip": null,
       "layout": "IPY_MODEL_e7a587de8f7b4e6384f37e73f414c0f2",
       "placeholder": "​",
       "style": "IPY_MODEL_48a8a77fb98a488791f3e756aa81f82a",
       "value": " 548M/548M [00:02&lt;00:00, 220MB/s]"
      }
     },
     "48a8a77fb98a488791f3e756aa81f82a": {
      "model_module": "@jupyter-widgets/controls",
      "model_module_version": "1.5.0",
      "model_name": "DescriptionStyleModel",
      "state": {
       "_model_module": "@jupyter-widgets/controls",
       "_model_module_version": "1.5.0",
       "_model_name": "DescriptionStyleModel",
       "_view_count": null,
       "_view_module": "@jupyter-widgets/base",
       "_view_module_version": "1.2.0",
       "_view_name": "StyleView",
       "description_width": ""
      }
     },
     "48ee91e07c654850b1d0672ab17b5e16": {
      "model_module": "@jupyter-widgets/controls",
      "model_module_version": "1.5.0",
      "model_name": "HBoxModel",
      "state": {
       "_dom_classes": [],
       "_model_module": "@jupyter-widgets/controls",
       "_model_module_version": "1.5.0",
       "_model_name": "HBoxModel",
       "_view_count": null,
       "_view_module": "@jupyter-widgets/controls",
       "_view_module_version": "1.5.0",
       "_view_name": "HBoxView",
       "box_style": "",
       "children": [
        "IPY_MODEL_36ead7f25069423eb3d56e5e18fc8cca",
        "IPY_MODEL_9c534ad11423438a91f75c2600c6852b",
        "IPY_MODEL_476d8705438d423b95c95b812fa058c6"
       ],
       "layout": "IPY_MODEL_610ee9a4d4b24755a77f7be7aafeb153"
      }
     },
     "4e8543687264444682b30f4f265c260f": {
      "model_module": "@jupyter-widgets/base",
      "model_module_version": "1.2.0",
      "model_name": "LayoutModel",
      "state": {
       "_model_module": "@jupyter-widgets/base",
       "_model_module_version": "1.2.0",
       "_model_name": "LayoutModel",
       "_view_count": null,
       "_view_module": "@jupyter-widgets/base",
       "_view_module_version": "1.2.0",
       "_view_name": "LayoutView",
       "align_content": null,
       "align_items": null,
       "align_self": null,
       "border": null,
       "bottom": null,
       "display": null,
       "flex": null,
       "flex_flow": null,
       "grid_area": null,
       "grid_auto_columns": null,
       "grid_auto_flow": null,
       "grid_auto_rows": null,
       "grid_column": null,
       "grid_gap": null,
       "grid_row": null,
       "grid_template_areas": null,
       "grid_template_columns": null,
       "grid_template_rows": null,
       "height": null,
       "justify_content": null,
       "justify_items": null,
       "left": null,
       "margin": null,
       "max_height": null,
       "max_width": null,
       "min_height": null,
       "min_width": null,
       "object_fit": null,
       "object_position": null,
       "order": null,
       "overflow": null,
       "overflow_x": null,
       "overflow_y": null,
       "padding": null,
       "right": null,
       "top": null,
       "visibility": null,
       "width": null
      }
     },
     "4f4c3a02d8b04daeb575dd2f35133806": {
      "model_module": "@jupyter-widgets/controls",
      "model_module_version": "1.5.0",
      "model_name": "DescriptionStyleModel",
      "state": {
       "_model_module": "@jupyter-widgets/controls",
       "_model_module_version": "1.5.0",
       "_model_name": "DescriptionStyleModel",
       "_view_count": null,
       "_view_module": "@jupyter-widgets/base",
       "_view_module_version": "1.2.0",
       "_view_name": "StyleView",
       "description_width": ""
      }
     },
     "5732c0dd810a46f1912d6dc0b2722228": {
      "model_module": "@jupyter-widgets/base",
      "model_module_version": "1.2.0",
      "model_name": "LayoutModel",
      "state": {
       "_model_module": "@jupyter-widgets/base",
       "_model_module_version": "1.2.0",
       "_model_name": "LayoutModel",
       "_view_count": null,
       "_view_module": "@jupyter-widgets/base",
       "_view_module_version": "1.2.0",
       "_view_name": "LayoutView",
       "align_content": null,
       "align_items": null,
       "align_self": null,
       "border": null,
       "bottom": null,
       "display": null,
       "flex": null,
       "flex_flow": null,
       "grid_area": null,
       "grid_auto_columns": null,
       "grid_auto_flow": null,
       "grid_auto_rows": null,
       "grid_column": null,
       "grid_gap": null,
       "grid_row": null,
       "grid_template_areas": null,
       "grid_template_columns": null,
       "grid_template_rows": null,
       "height": null,
       "justify_content": null,
       "justify_items": null,
       "left": null,
       "margin": null,
       "max_height": null,
       "max_width": null,
       "min_height": null,
       "min_width": null,
       "object_fit": null,
       "object_position": null,
       "order": null,
       "overflow": null,
       "overflow_x": null,
       "overflow_y": null,
       "padding": null,
       "right": null,
       "top": null,
       "visibility": null,
       "width": null
      }
     },
     "5864e66ff45a4950bdf89436f54d5825": {
      "model_module": "@jupyter-widgets/controls",
      "model_module_version": "1.5.0",
      "model_name": "HTMLModel",
      "state": {
       "_dom_classes": [],
       "_model_module": "@jupyter-widgets/controls",
       "_model_module_version": "1.5.0",
       "_model_name": "HTMLModel",
       "_view_count": null,
       "_view_module": "@jupyter-widgets/controls",
       "_view_module_version": "1.5.0",
       "_view_name": "HTMLView",
       "description": "",
       "description_tooltip": null,
       "layout": "IPY_MODEL_18b86ad53c914788a3f8a20e3e638aac",
       "placeholder": "​",
       "style": "IPY_MODEL_2e8fed7203bd4a08bdcb5fa08517a4c2",
       "value": " 456k/456k [00:00&lt;00:00, 9.14MB/s]"
      }
     },
     "610ee9a4d4b24755a77f7be7aafeb153": {
      "model_module": "@jupyter-widgets/base",
      "model_module_version": "1.2.0",
      "model_name": "LayoutModel",
      "state": {
       "_model_module": "@jupyter-widgets/base",
       "_model_module_version": "1.2.0",
       "_model_name": "LayoutModel",
       "_view_count": null,
       "_view_module": "@jupyter-widgets/base",
       "_view_module_version": "1.2.0",
       "_view_name": "LayoutView",
       "align_content": null,
       "align_items": null,
       "align_self": null,
       "border": null,
       "bottom": null,
       "display": null,
       "flex": null,
       "flex_flow": null,
       "grid_area": null,
       "grid_auto_columns": null,
       "grid_auto_flow": null,
       "grid_auto_rows": null,
       "grid_column": null,
       "grid_gap": null,
       "grid_row": null,
       "grid_template_areas": null,
       "grid_template_columns": null,
       "grid_template_rows": null,
       "height": null,
       "justify_content": null,
       "justify_items": null,
       "left": null,
       "margin": null,
       "max_height": null,
       "max_width": null,
       "min_height": null,
       "min_width": null,
       "object_fit": null,
       "object_position": null,
       "order": null,
       "overflow": null,
       "overflow_x": null,
       "overflow_y": null,
       "padding": null,
       "right": null,
       "top": null,
       "visibility": null,
       "width": null
      }
     },
     "82f8e5425089442189e0a2df87709566": {
      "model_module": "@jupyter-widgets/controls",
      "model_module_version": "1.5.0",
      "model_name": "HTMLModel",
      "state": {
       "_dom_classes": [],
       "_model_module": "@jupyter-widgets/controls",
       "_model_module_version": "1.5.0",
       "_model_name": "HTMLModel",
       "_view_count": null,
       "_view_module": "@jupyter-widgets/controls",
       "_view_module_version": "1.5.0",
       "_view_name": "HTMLView",
       "description": "",
       "description_tooltip": null,
       "layout": "IPY_MODEL_c3d53a1de72845ce9b139fde795a000f",
       "placeholder": "​",
       "style": "IPY_MODEL_2e6f33f8155b4b9a8cf08b9298515e35",
       "value": " 665/665 [00:00&lt;00:00, 35.2kB/s]"
      }
     },
     "8a6762cc8ae4457c9949e25dec726bf4": {
      "model_module": "@jupyter-widgets/controls",
      "model_module_version": "1.5.0",
      "model_name": "DescriptionStyleModel",
      "state": {
       "_model_module": "@jupyter-widgets/controls",
       "_model_module_version": "1.5.0",
       "_model_name": "DescriptionStyleModel",
       "_view_count": null,
       "_view_module": "@jupyter-widgets/base",
       "_view_module_version": "1.2.0",
       "_view_name": "StyleView",
       "description_width": ""
      }
     },
     "8d5fae21311542c0b803e6c27c937ec0": {
      "model_module": "@jupyter-widgets/base",
      "model_module_version": "1.2.0",
      "model_name": "LayoutModel",
      "state": {
       "_model_module": "@jupyter-widgets/base",
       "_model_module_version": "1.2.0",
       "_model_name": "LayoutModel",
       "_view_count": null,
       "_view_module": "@jupyter-widgets/base",
       "_view_module_version": "1.2.0",
       "_view_name": "LayoutView",
       "align_content": null,
       "align_items": null,
       "align_self": null,
       "border": null,
       "bottom": null,
       "display": null,
       "flex": null,
       "flex_flow": null,
       "grid_area": null,
       "grid_auto_columns": null,
       "grid_auto_flow": null,
       "grid_auto_rows": null,
       "grid_column": null,
       "grid_gap": null,
       "grid_row": null,
       "grid_template_areas": null,
       "grid_template_columns": null,
       "grid_template_rows": null,
       "height": null,
       "justify_content": null,
       "justify_items": null,
       "left": null,
       "margin": null,
       "max_height": null,
       "max_width": null,
       "min_height": null,
       "min_width": null,
       "object_fit": null,
       "object_position": null,
       "order": null,
       "overflow": null,
       "overflow_x": null,
       "overflow_y": null,
       "padding": null,
       "right": null,
       "top": null,
       "visibility": null,
       "width": null
      }
     },
     "91956f73d9694cc9a9bf0f7b76765d8b": {
      "model_module": "@jupyter-widgets/base",
      "model_module_version": "1.2.0",
      "model_name": "LayoutModel",
      "state": {
       "_model_module": "@jupyter-widgets/base",
       "_model_module_version": "1.2.0",
       "_model_name": "LayoutModel",
       "_view_count": null,
       "_view_module": "@jupyter-widgets/base",
       "_view_module_version": "1.2.0",
       "_view_name": "LayoutView",
       "align_content": null,
       "align_items": null,
       "align_self": null,
       "border": null,
       "bottom": null,
       "display": null,
       "flex": null,
       "flex_flow": null,
       "grid_area": null,
       "grid_auto_columns": null,
       "grid_auto_flow": null,
       "grid_auto_rows": null,
       "grid_column": null,
       "grid_gap": null,
       "grid_row": null,
       "grid_template_areas": null,
       "grid_template_columns": null,
       "grid_template_rows": null,
       "height": null,
       "justify_content": null,
       "justify_items": null,
       "left": null,
       "margin": null,
       "max_height": null,
       "max_width": null,
       "min_height": null,
       "min_width": null,
       "object_fit": null,
       "object_position": null,
       "order": null,
       "overflow": null,
       "overflow_x": null,
       "overflow_y": null,
       "padding": null,
       "right": null,
       "top": null,
       "visibility": null,
       "width": null
      }
     },
     "930d6f5ed3fd499282a7b5c6368ebb6f": {
      "model_module": "@jupyter-widgets/controls",
      "model_module_version": "1.5.0",
      "model_name": "HTMLModel",
      "state": {
       "_dom_classes": [],
       "_model_module": "@jupyter-widgets/controls",
       "_model_module_version": "1.5.0",
       "_model_name": "HTMLModel",
       "_view_count": null,
       "_view_module": "@jupyter-widgets/controls",
       "_view_module_version": "1.5.0",
       "_view_name": "HTMLView",
       "description": "",
       "description_tooltip": null,
       "layout": "IPY_MODEL_8d5fae21311542c0b803e6c27c937ec0",
       "placeholder": "​",
       "style": "IPY_MODEL_965c68936f4d425c9f29024778caec60",
       "value": "Downloading (…)olve/main/merges.txt: 100%"
      }
     },
     "965c68936f4d425c9f29024778caec60": {
      "model_module": "@jupyter-widgets/controls",
      "model_module_version": "1.5.0",
      "model_name": "DescriptionStyleModel",
      "state": {
       "_model_module": "@jupyter-widgets/controls",
       "_model_module_version": "1.5.0",
       "_model_name": "DescriptionStyleModel",
       "_view_count": null,
       "_view_module": "@jupyter-widgets/base",
       "_view_module_version": "1.2.0",
       "_view_name": "StyleView",
       "description_width": ""
      }
     },
     "9c534ad11423438a91f75c2600c6852b": {
      "model_module": "@jupyter-widgets/controls",
      "model_module_version": "1.5.0",
      "model_name": "FloatProgressModel",
      "state": {
       "_dom_classes": [],
       "_model_module": "@jupyter-widgets/controls",
       "_model_module_version": "1.5.0",
       "_model_name": "FloatProgressModel",
       "_view_count": null,
       "_view_module": "@jupyter-widgets/controls",
       "_view_module_version": "1.5.0",
       "_view_name": "ProgressView",
       "bar_style": "success",
       "description": "",
       "description_tooltip": null,
       "layout": "IPY_MODEL_b18fabdbbcc84b2cb7023ac96ad82a1a",
       "max": 548118077,
       "min": 0,
       "orientation": "horizontal",
       "style": "IPY_MODEL_e5f5a435ee6b41dd9e526dca97f584c8",
       "value": 548118077
      }
     },
     "a018e79c9db346d98fa2a851867ca78f": {
      "model_module": "@jupyter-widgets/controls",
      "model_module_version": "1.5.0",
      "model_name": "HBoxModel",
      "state": {
       "_dom_classes": [],
       "_model_module": "@jupyter-widgets/controls",
       "_model_module_version": "1.5.0",
       "_model_name": "HBoxModel",
       "_view_count": null,
       "_view_module": "@jupyter-widgets/controls",
       "_view_module_version": "1.5.0",
       "_view_name": "HBoxView",
       "box_style": "",
       "children": [
        "IPY_MODEL_474e3a0140254995863330c4eea2099d",
        "IPY_MODEL_f84f2bae57de48a4becdea8480667289",
        "IPY_MODEL_a50345411fbd49a5bbd58be7b4192fac"
       ],
       "layout": "IPY_MODEL_5732c0dd810a46f1912d6dc0b2722228"
      }
     },
     "a50345411fbd49a5bbd58be7b4192fac": {
      "model_module": "@jupyter-widgets/controls",
      "model_module_version": "1.5.0",
      "model_name": "HTMLModel",
      "state": {
       "_dom_classes": [],
       "_model_module": "@jupyter-widgets/controls",
       "_model_module_version": "1.5.0",
       "_model_name": "HTMLModel",
       "_view_count": null,
       "_view_module": "@jupyter-widgets/controls",
       "_view_module_version": "1.5.0",
       "_view_name": "HTMLView",
       "description": "",
       "description_tooltip": null,
       "layout": "IPY_MODEL_fc00b9c77f3b4d578828ea36b01a0413",
       "placeholder": "​",
       "style": "IPY_MODEL_4f4c3a02d8b04daeb575dd2f35133806",
       "value": " 1.04M/1.04M [00:00&lt;00:00, 14.3MB/s]"
      }
     },
     "a99bc78584524487840df0611aab1c9d": {
      "model_module": "@jupyter-widgets/base",
      "model_module_version": "1.2.0",
      "model_name": "LayoutModel",
      "state": {
       "_model_module": "@jupyter-widgets/base",
       "_model_module_version": "1.2.0",
       "_model_name": "LayoutModel",
       "_view_count": null,
       "_view_module": "@jupyter-widgets/base",
       "_view_module_version": "1.2.0",
       "_view_name": "LayoutView",
       "align_content": null,
       "align_items": null,
       "align_self": null,
       "border": null,
       "bottom": null,
       "display": null,
       "flex": null,
       "flex_flow": null,
       "grid_area": null,
       "grid_auto_columns": null,
       "grid_auto_flow": null,
       "grid_auto_rows": null,
       "grid_column": null,
       "grid_gap": null,
       "grid_row": null,
       "grid_template_areas": null,
       "grid_template_columns": null,
       "grid_template_rows": null,
       "height": null,
       "justify_content": null,
       "justify_items": null,
       "left": null,
       "margin": null,
       "max_height": null,
       "max_width": null,
       "min_height": null,
       "min_width": null,
       "object_fit": null,
       "object_position": null,
       "order": null,
       "overflow": null,
       "overflow_x": null,
       "overflow_y": null,
       "padding": null,
       "right": null,
       "top": null,
       "visibility": null,
       "width": null
      }
     },
     "ab8d252b920a47099227d3a860e708fd": {
      "model_module": "@jupyter-widgets/base",
      "model_module_version": "1.2.0",
      "model_name": "LayoutModel",
      "state": {
       "_model_module": "@jupyter-widgets/base",
       "_model_module_version": "1.2.0",
       "_model_name": "LayoutModel",
       "_view_count": null,
       "_view_module": "@jupyter-widgets/base",
       "_view_module_version": "1.2.0",
       "_view_name": "LayoutView",
       "align_content": null,
       "align_items": null,
       "align_self": null,
       "border": null,
       "bottom": null,
       "display": null,
       "flex": null,
       "flex_flow": null,
       "grid_area": null,
       "grid_auto_columns": null,
       "grid_auto_flow": null,
       "grid_auto_rows": null,
       "grid_column": null,
       "grid_gap": null,
       "grid_row": null,
       "grid_template_areas": null,
       "grid_template_columns": null,
       "grid_template_rows": null,
       "height": null,
       "justify_content": null,
       "justify_items": null,
       "left": null,
       "margin": null,
       "max_height": null,
       "max_width": null,
       "min_height": null,
       "min_width": null,
       "object_fit": null,
       "object_position": null,
       "order": null,
       "overflow": null,
       "overflow_x": null,
       "overflow_y": null,
       "padding": null,
       "right": null,
       "top": null,
       "visibility": null,
       "width": null
      }
     },
     "b18fabdbbcc84b2cb7023ac96ad82a1a": {
      "model_module": "@jupyter-widgets/base",
      "model_module_version": "1.2.0",
      "model_name": "LayoutModel",
      "state": {
       "_model_module": "@jupyter-widgets/base",
       "_model_module_version": "1.2.0",
       "_model_name": "LayoutModel",
       "_view_count": null,
       "_view_module": "@jupyter-widgets/base",
       "_view_module_version": "1.2.0",
       "_view_name": "LayoutView",
       "align_content": null,
       "align_items": null,
       "align_self": null,
       "border": null,
       "bottom": null,
       "display": null,
       "flex": null,
       "flex_flow": null,
       "grid_area": null,
       "grid_auto_columns": null,
       "grid_auto_flow": null,
       "grid_auto_rows": null,
       "grid_column": null,
       "grid_gap": null,
       "grid_row": null,
       "grid_template_areas": null,
       "grid_template_columns": null,
       "grid_template_rows": null,
       "height": null,
       "justify_content": null,
       "justify_items": null,
       "left": null,
       "margin": null,
       "max_height": null,
       "max_width": null,
       "min_height": null,
       "min_width": null,
       "object_fit": null,
       "object_position": null,
       "order": null,
       "overflow": null,
       "overflow_x": null,
       "overflow_y": null,
       "padding": null,
       "right": null,
       "top": null,
       "visibility": null,
       "width": null
      }
     },
     "b56e08c0975d45048d78ab83bc6366e1": {
      "model_module": "@jupyter-widgets/controls",
      "model_module_version": "1.5.0",
      "model_name": "FloatProgressModel",
      "state": {
       "_dom_classes": [],
       "_model_module": "@jupyter-widgets/controls",
       "_model_module_version": "1.5.0",
       "_model_name": "FloatProgressModel",
       "_view_count": null,
       "_view_module": "@jupyter-widgets/controls",
       "_view_module_version": "1.5.0",
       "_view_name": "ProgressView",
       "bar_style": "success",
       "description": "",
       "description_tooltip": null,
       "layout": "IPY_MODEL_4e8543687264444682b30f4f265c260f",
       "max": 665,
       "min": 0,
       "orientation": "horizontal",
       "style": "IPY_MODEL_f84809e495b3436d8d2dfd23f5d3acd3",
       "value": 665
      }
     },
     "b717fa14f1134962848349ef7ccfa44e": {
      "model_module": "@jupyter-widgets/base",
      "model_module_version": "1.2.0",
      "model_name": "LayoutModel",
      "state": {
       "_model_module": "@jupyter-widgets/base",
       "_model_module_version": "1.2.0",
       "_model_name": "LayoutModel",
       "_view_count": null,
       "_view_module": "@jupyter-widgets/base",
       "_view_module_version": "1.2.0",
       "_view_name": "LayoutView",
       "align_content": null,
       "align_items": null,
       "align_self": null,
       "border": null,
       "bottom": null,
       "display": null,
       "flex": null,
       "flex_flow": null,
       "grid_area": null,
       "grid_auto_columns": null,
       "grid_auto_flow": null,
       "grid_auto_rows": null,
       "grid_column": null,
       "grid_gap": null,
       "grid_row": null,
       "grid_template_areas": null,
       "grid_template_columns": null,
       "grid_template_rows": null,
       "height": null,
       "justify_content": null,
       "justify_items": null,
       "left": null,
       "margin": null,
       "max_height": null,
       "max_width": null,
       "min_height": null,
       "min_width": null,
       "object_fit": null,
       "object_position": null,
       "order": null,
       "overflow": null,
       "overflow_x": null,
       "overflow_y": null,
       "padding": null,
       "right": null,
       "top": null,
       "visibility": null,
       "width": null
      }
     },
     "bccaccfff1a6482381a6ae3c2384c11a": {
      "model_module": "@jupyter-widgets/controls",
      "model_module_version": "1.5.0",
      "model_name": "HBoxModel",
      "state": {
       "_dom_classes": [],
       "_model_module": "@jupyter-widgets/controls",
       "_model_module_version": "1.5.0",
       "_model_name": "HBoxModel",
       "_view_count": null,
       "_view_module": "@jupyter-widgets/controls",
       "_view_module_version": "1.5.0",
       "_view_name": "HBoxView",
       "box_style": "",
       "children": [
        "IPY_MODEL_930d6f5ed3fd499282a7b5c6368ebb6f",
        "IPY_MODEL_44c42f93d25e45acb7b3a1ce17c8e660",
        "IPY_MODEL_5864e66ff45a4950bdf89436f54d5825"
       ],
       "layout": "IPY_MODEL_020458976a8947d6a5a4b087cd312d89"
      }
     },
     "c3d53a1de72845ce9b139fde795a000f": {
      "model_module": "@jupyter-widgets/base",
      "model_module_version": "1.2.0",
      "model_name": "LayoutModel",
      "state": {
       "_model_module": "@jupyter-widgets/base",
       "_model_module_version": "1.2.0",
       "_model_name": "LayoutModel",
       "_view_count": null,
       "_view_module": "@jupyter-widgets/base",
       "_view_module_version": "1.2.0",
       "_view_name": "LayoutView",
       "align_content": null,
       "align_items": null,
       "align_self": null,
       "border": null,
       "bottom": null,
       "display": null,
       "flex": null,
       "flex_flow": null,
       "grid_area": null,
       "grid_auto_columns": null,
       "grid_auto_flow": null,
       "grid_auto_rows": null,
       "grid_column": null,
       "grid_gap": null,
       "grid_row": null,
       "grid_template_areas": null,
       "grid_template_columns": null,
       "grid_template_rows": null,
       "height": null,
       "justify_content": null,
       "justify_items": null,
       "left": null,
       "margin": null,
       "max_height": null,
       "max_width": null,
       "min_height": null,
       "min_width": null,
       "object_fit": null,
       "object_position": null,
       "order": null,
       "overflow": null,
       "overflow_x": null,
       "overflow_y": null,
       "padding": null,
       "right": null,
       "top": null,
       "visibility": null,
       "width": null
      }
     },
     "c6a51eca439e49e18f156ce1dc5bd9d4": {
      "model_module": "@jupyter-widgets/controls",
      "model_module_version": "1.5.0",
      "model_name": "DescriptionStyleModel",
      "state": {
       "_model_module": "@jupyter-widgets/controls",
       "_model_module_version": "1.5.0",
       "_model_name": "DescriptionStyleModel",
       "_view_count": null,
       "_view_module": "@jupyter-widgets/base",
       "_view_module_version": "1.2.0",
       "_view_name": "StyleView",
       "description_width": ""
      }
     },
     "c74c92851725403687d53d1ee667e660": {
      "model_module": "@jupyter-widgets/controls",
      "model_module_version": "1.5.0",
      "model_name": "ProgressStyleModel",
      "state": {
       "_model_module": "@jupyter-widgets/controls",
       "_model_module_version": "1.5.0",
       "_model_name": "ProgressStyleModel",
       "_view_count": null,
       "_view_module": "@jupyter-widgets/base",
       "_view_module_version": "1.2.0",
       "_view_name": "StyleView",
       "bar_color": null,
       "description_width": ""
      }
     },
     "e5f5a435ee6b41dd9e526dca97f584c8": {
      "model_module": "@jupyter-widgets/controls",
      "model_module_version": "1.5.0",
      "model_name": "ProgressStyleModel",
      "state": {
       "_model_module": "@jupyter-widgets/controls",
       "_model_module_version": "1.5.0",
       "_model_name": "ProgressStyleModel",
       "_view_count": null,
       "_view_module": "@jupyter-widgets/base",
       "_view_module_version": "1.2.0",
       "_view_name": "StyleView",
       "bar_color": null,
       "description_width": ""
      }
     },
     "e703294aaf5c4b449193ea445e529f69": {
      "model_module": "@jupyter-widgets/controls",
      "model_module_version": "1.5.0",
      "model_name": "HBoxModel",
      "state": {
       "_dom_classes": [],
       "_model_module": "@jupyter-widgets/controls",
       "_model_module_version": "1.5.0",
       "_model_name": "HBoxModel",
       "_view_count": null,
       "_view_module": "@jupyter-widgets/controls",
       "_view_module_version": "1.5.0",
       "_view_name": "HBoxView",
       "box_style": "",
       "children": [
        "IPY_MODEL_073b59d0337e4ead8e2915d56afc38be",
        "IPY_MODEL_b56e08c0975d45048d78ab83bc6366e1",
        "IPY_MODEL_82f8e5425089442189e0a2df87709566"
       ],
       "layout": "IPY_MODEL_b717fa14f1134962848349ef7ccfa44e"
      }
     },
     "e7a587de8f7b4e6384f37e73f414c0f2": {
      "model_module": "@jupyter-widgets/base",
      "model_module_version": "1.2.0",
      "model_name": "LayoutModel",
      "state": {
       "_model_module": "@jupyter-widgets/base",
       "_model_module_version": "1.2.0",
       "_model_name": "LayoutModel",
       "_view_count": null,
       "_view_module": "@jupyter-widgets/base",
       "_view_module_version": "1.2.0",
       "_view_name": "LayoutView",
       "align_content": null,
       "align_items": null,
       "align_self": null,
       "border": null,
       "bottom": null,
       "display": null,
       "flex": null,
       "flex_flow": null,
       "grid_area": null,
       "grid_auto_columns": null,
       "grid_auto_flow": null,
       "grid_auto_rows": null,
       "grid_column": null,
       "grid_gap": null,
       "grid_row": null,
       "grid_template_areas": null,
       "grid_template_columns": null,
       "grid_template_rows": null,
       "height": null,
       "justify_content": null,
       "justify_items": null,
       "left": null,
       "margin": null,
       "max_height": null,
       "max_width": null,
       "min_height": null,
       "min_width": null,
       "object_fit": null,
       "object_position": null,
       "order": null,
       "overflow": null,
       "overflow_x": null,
       "overflow_y": null,
       "padding": null,
       "right": null,
       "top": null,
       "visibility": null,
       "width": null
      }
     },
     "f688ca3e353a468c99d3e2a6b527ff7a": {
      "model_module": "@jupyter-widgets/controls",
      "model_module_version": "1.5.0",
      "model_name": "ProgressStyleModel",
      "state": {
       "_model_module": "@jupyter-widgets/controls",
       "_model_module_version": "1.5.0",
       "_model_name": "ProgressStyleModel",
       "_view_count": null,
       "_view_module": "@jupyter-widgets/base",
       "_view_module_version": "1.2.0",
       "_view_name": "StyleView",
       "bar_color": null,
       "description_width": ""
      }
     },
     "f84809e495b3436d8d2dfd23f5d3acd3": {
      "model_module": "@jupyter-widgets/controls",
      "model_module_version": "1.5.0",
      "model_name": "ProgressStyleModel",
      "state": {
       "_model_module": "@jupyter-widgets/controls",
       "_model_module_version": "1.5.0",
       "_model_name": "ProgressStyleModel",
       "_view_count": null,
       "_view_module": "@jupyter-widgets/base",
       "_view_module_version": "1.2.0",
       "_view_name": "StyleView",
       "bar_color": null,
       "description_width": ""
      }
     },
     "f84f2bae57de48a4becdea8480667289": {
      "model_module": "@jupyter-widgets/controls",
      "model_module_version": "1.5.0",
      "model_name": "FloatProgressModel",
      "state": {
       "_dom_classes": [],
       "_model_module": "@jupyter-widgets/controls",
       "_model_module_version": "1.5.0",
       "_model_name": "FloatProgressModel",
       "_view_count": null,
       "_view_module": "@jupyter-widgets/controls",
       "_view_module_version": "1.5.0",
       "_view_name": "ProgressView",
       "bar_style": "success",
       "description": "",
       "description_tooltip": null,
       "layout": "IPY_MODEL_ab8d252b920a47099227d3a860e708fd",
       "max": 1042301,
       "min": 0,
       "orientation": "horizontal",
       "style": "IPY_MODEL_c74c92851725403687d53d1ee667e660",
       "value": 1042301
      }
     },
     "fc00b9c77f3b4d578828ea36b01a0413": {
      "model_module": "@jupyter-widgets/base",
      "model_module_version": "1.2.0",
      "model_name": "LayoutModel",
      "state": {
       "_model_module": "@jupyter-widgets/base",
       "_model_module_version": "1.2.0",
       "_model_name": "LayoutModel",
       "_view_count": null,
       "_view_module": "@jupyter-widgets/base",
       "_view_module_version": "1.2.0",
       "_view_name": "LayoutView",
       "align_content": null,
       "align_items": null,
       "align_self": null,
       "border": null,
       "bottom": null,
       "display": null,
       "flex": null,
       "flex_flow": null,
       "grid_area": null,
       "grid_auto_columns": null,
       "grid_auto_flow": null,
       "grid_auto_rows": null,
       "grid_column": null,
       "grid_gap": null,
       "grid_row": null,
       "grid_template_areas": null,
       "grid_template_columns": null,
       "grid_template_rows": null,
       "height": null,
       "justify_content": null,
       "justify_items": null,
       "left": null,
       "margin": null,
       "max_height": null,
       "max_width": null,
       "min_height": null,
       "min_width": null,
       "object_fit": null,
       "object_position": null,
       "order": null,
       "overflow": null,
       "overflow_x": null,
       "overflow_y": null,
       "padding": null,
       "right": null,
       "top": null,
       "visibility": null,
       "width": null
      }
     }
    },
    "version_major": 2,
    "version_minor": 0
   }
  }
 },
 "nbformat": 4,
 "nbformat_minor": 5
}
